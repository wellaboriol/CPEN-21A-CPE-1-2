{
  "nbformat": 4,
  "nbformat_minor": 0,
  "metadata": {
    "colab": {
      "name": "Lab1.ipynb",
      "provenance": [],
      "authorship_tag": "ABX9TyMQ68FwcWl0Y5SLarh6mHl2",
      "include_colab_link": true
    },
    "kernelspec": {
      "name": "python3",
      "display_name": "Python 3"
    },
    "language_info": {
      "name": "python"
    }
  },
  "cells": [
    {
      "cell_type": "markdown",
      "metadata": {
        "id": "view-in-github",
        "colab_type": "text"
      },
      "source": [
        "<a href=\"https://colab.research.google.com/github/wellaboriol/CPEN-21A-CPE-1-2/blob/main/Lab1.ipynb\" target=\"_parent\"><img src=\"https://colab.research.google.com/assets/colab-badge.svg\" alt=\"Open In Colab\"/></a>"
      ]
    },
    {
      "cell_type": "markdown",
      "metadata": {
        "id": "ZTKKDnRr2lww"
      },
      "source": [
        "#Laboratory 1\n"
      ]
    },
    {
      "cell_type": "code",
      "metadata": {
        "colab": {
          "base_uri": "https://localhost:8080/"
        },
        "id": "iVmon9Ui2sOS",
        "outputId": "803b4eb9-0195-48ff-a21a-0421a028e4ab"
      },
      "source": [
        "print(\"Welcome to Python Programming\")"
      ],
      "execution_count": 25,
      "outputs": [
        {
          "output_type": "stream",
          "name": "stdout",
          "text": [
            "Welcome to Python Programming\n"
          ]
        }
      ]
    },
    {
      "cell_type": "code",
      "metadata": {
        "colab": {
          "base_uri": "https://localhost:8080/"
        },
        "id": "Gy_M8z003rpz",
        "outputId": "9d9b0bdf-455b-4cd5-f15b-4998409bbc0a"
      },
      "source": [
        "name = \"Wella Mae L. Boriol\"\n",
        "address = \"Mabuhay City Paliparan 3 Dasmariñas City Cavite\"\n",
        "age = 19\n",
        "\n",
        "print(\"Good day! I am \" + name) \n",
        "print(str(age) + \" \" \"years old\")\n",
        "print(\"I live in \" + address)\n"
      ],
      "execution_count": 26,
      "outputs": [
        {
          "output_type": "stream",
          "name": "stdout",
          "text": [
            "Good day! I am Wella Mae L. Boriol\n",
            "19 years old\n",
            "I live in Mabuhay City Paliparan 3 Dasmariñas City Cavite\n"
          ]
        }
      ]
    }
  ]
}